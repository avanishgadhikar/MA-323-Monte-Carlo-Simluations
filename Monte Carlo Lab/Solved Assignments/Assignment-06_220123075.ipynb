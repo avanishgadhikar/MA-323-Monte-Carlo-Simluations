{
 "cells": [
  {
   "cell_type": "markdown",
   "id": "46833b52",
   "metadata": {},
   "source": [
    "# Assignment-06\n",
    "To use Monte-Carlo methods to estimate the expected value of a given Distribution."
   ]
  },
  {
   "cell_type": "code",
   "execution_count": 1,
   "id": "ddbc7151",
   "metadata": {},
   "outputs": [],
   "source": [
    "# importing dependencies\n",
    "import numpy as np\n",
    "import math\n",
    "import matplotlib.pyplot as plt"
   ]
  },
  {
   "cell_type": "code",
   "execution_count": 2,
   "id": "e631d3cf",
   "metadata": {},
   "outputs": [],
   "source": [
    "# defining the Linear Congruence Generator\n",
    "def uniform_generator(x_0):\n",
    "    a = 1597\n",
    "    b = 24944\n",
    "    m = 24495444\n",
    "    x_0 = (a*x_0 + b)%m\n",
    "    return x_0/m, x_0"
   ]
  },
  {
   "cell_type": "code",
   "execution_count": 3,
   "id": "29da9f75",
   "metadata": {},
   "outputs": [
    {
     "name": "stdout",
     "output_type": "stream",
     "text": [
      "Exact value of I is 2!\n",
      "Estimate for sample size (M): 100 is 1.991463407626327\n",
      "The confidence interval for the given value of m is (1.9004284663036621, 2.0824983489489917)\n",
      "\n",
      "Estimate for sample size (M): 1000 is 2.0200987538985524\n",
      "The confidence interval for the given value of m is (1.9932540160867527, 2.046943491710352)\n",
      "\n",
      "Estimate for sample size (M): 10000 is 1.9997533739819846\n",
      "The confidence interval for the given value of m is (1.9911118454445538, 2.008394902519415)\n",
      "\n",
      "Estimate for sample size (M): 100000 is 1.9985320225288896\n",
      "The confidence interval for the given value of m is (1.9957935853367041, 2.0012704597210753)\n",
      "\n"
     ]
    }
   ],
   "source": [
    "# Generating from the given distribution\n",
    "print(\"Exact value of I is 2!\")\n",
    "seed = 42\n",
    "M = [100, 1000, 10000, 100000]\n",
    "\n",
    "for m in M:\n",
    "    I = []\n",
    "    x_0 = seed\n",
    "    sum = 0\n",
    "    for _ in range(m):\n",
    "        u, x_0 = uniform_generator(x_0)\n",
    "        i = math.exp(math.sqrt(u))\n",
    "        I.append(i)\n",
    "        sum += i\n",
    "    mean = sum/m\n",
    "    print(f\"Estimate for sample size (M): {m} is {mean}\")\n",
    "    \n",
    "    # Determining the 95% confidence interval\n",
    "    # Assuming that the value of phi^-1(0.975) = 1.96\n",
    "    std_dev = math.sqrt(np.var(I))\n",
    "    lower_range = (mean - (1.96*std_dev / math.sqrt(m)))\n",
    "    upper_range = (mean + (1.96*std_dev / math.sqrt(m)))\n",
    "    print(f\"The confidence interval for the given value of m is ({lower_range}, {upper_range})\")\n",
    "    print(\"\")"
   ]
  },
  {
   "cell_type": "raw",
   "id": "cae413e3",
   "metadata": {},
   "source": [
    "Observations:\n",
    "1. The Exact value of I was calculated to be 2\n",
    "2. The Estimated mean Value keeps going closer to 2 as the sample size increases.\n",
    "3. The width of the confidence interval also gets smaller and smaller, indicating that our estimate of the \n",
    "mean is getting more and more accurate\n",
    "4. The confidence interval is calculated using the fact that PHI^-1(0.975) is approx 1.96, where PHI is the CDF of the N~(0, 1)."
   ]
  },
  {
   "cell_type": "markdown",
   "id": "c11aa864",
   "metadata": {},
   "source": [
    "# end"
   ]
  },
  {
   "cell_type": "markdown",
   "id": "25db1819-1f0b-4c81-986e-569e4493026b",
   "metadata": {},
   "source": []
  },
  {
   "cell_type": "code",
   "execution_count": null,
   "id": "ce6deb55-f8f8-41ba-a22b-db5fde7d0a08",
   "metadata": {},
   "outputs": [],
   "source": []
  }
 ],
 "metadata": {
  "kernelspec": {
   "display_name": "Python 3 (ipykernel)",
   "language": "python",
   "name": "python3"
  },
  "language_info": {
   "codemirror_mode": {
    "name": "ipython",
    "version": 3
   },
   "file_extension": ".py",
   "mimetype": "text/x-python",
   "name": "python",
   "nbconvert_exporter": "python",
   "pygments_lexer": "ipython3",
   "version": "3.11.7"
  }
 },
 "nbformat": 4,
 "nbformat_minor": 5
}
